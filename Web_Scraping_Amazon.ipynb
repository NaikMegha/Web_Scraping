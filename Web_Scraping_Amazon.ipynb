{
 "cells": [
  {
   "cell_type": "markdown",
   "metadata": {},
   "source": [
    "## Amazon web scaper"
   ]
  },
  {
   "cell_type": "markdown",
   "metadata": {},
   "source": [
    "### Requirement: \n",
    "<p>1. Beautiful soup<br>\n",
    "    2. Selenium</p>"
   ]
  },
  {
   "cell_type": "markdown",
   "metadata": {},
   "source": [
    "### Steps :\n",
    "<li>Format the URL. Ex:<a href=\"https://www.amazon.com/s?k=TV&ref=nb_sb_noss_2&page=1\">https://www.amazon.com/s?k=TV&ref=nb_sb_noss_2&page=1</a></li>\n",
    "<li> Extract the data from the results</li>\n",
    "<li> Write the data to CSV</li>"
   ]
  },
  {
   "cell_type": "code",
   "execution_count": 10,
   "metadata": {},
   "outputs": [],
   "source": [
    "import csv\n",
    "from selenium import webdriver\n",
    "from bs4 import BeautifulSoup\n",
    "\n",
    "def get_url(search_term):\n",
    "    \"\"\"Generate URL from search term\"\"\"\n",
    "    template = \"https://www.amazon.com/s?k={}&ref=nb_sb_noss_2\"\n",
    "    param = search_term.replace(\" \",\"+\")\n",
    "    url= template.format(param)\n",
    "    url += \"&page{}\"\n",
    "    return url\n",
    "\n",
    "def get_items(item):\n",
    "    description = item.find(class_=\"a-text-normal\").text.strip()\n",
    "    try:\n",
    "        ratings = item.find(class_=\"a-icon\").text\n",
    "    except:\n",
    "        ratings = \" \"\n",
    "\n",
    "    try:     \n",
    "        price = item.find(class_=\"a-price\").text\n",
    "    except:\n",
    "        price = \" \"\n",
    "    data = [description,price,ratings]\n",
    "    return data\n",
    "    \n",
    "        \n",
    "                  \n",
    "def data_to_csv(items,filename):\n",
    "    with open(filename,\"w\",newline = \"\") as f:\n",
    "        writer = csv.writer(f)\n",
    "        writer.writerows(items)\n",
    "   \n",
    "\n",
    "def main(search_term):\n",
    "    # Initialize web driver\n",
    "    driver = webdriver.Chrome(executable_path=\"C:/Machine-Learning/Project/Web scraping/Drivers/chromedriver.exe\")\n",
    "    \n",
    "    url = get_url(search_term)\n",
    "    driver.get(url)\n",
    "    soup = BeautifulSoup(driver.page_source,\"html.parser\")\n",
    "    \n",
    "    items = [\"Description\",\"Price\",\"Rating\"]\n",
    "    #run this for 20 pages\n",
    "    for i in range(1,21):\n",
    "        url.format(i) # ex : https://www.amazon.com/s?k=TV&ref=nb_sb_noss_2&page=1\n",
    "        #get the formatted URL\n",
    "        driver.get(url)\n",
    "        \n",
    "        results = soup.find_all(\"div\", {\"data-component-type\": \"s-search-result\"})\n",
    "        for item in results:\n",
    "            # Get items from resultset\n",
    "            data = get_items(item)\n",
    "            if data:\n",
    "                items.append(data)\n",
    "    driver.close()\n",
    "    #Write to SCV file\n",
    "    filename = search_term.split(\" \")[0]+\"_data.csv\"\n",
    "    data_to_csv(items,filename)\n",
    "                \n",
    "             \n",
    "main(\"TV\")   \n"
   ]
  },
  {
   "cell_type": "code",
   "execution_count": null,
   "metadata": {},
   "outputs": [],
   "source": []
  }
 ],
 "metadata": {
  "kernelspec": {
   "display_name": "Python 3",
   "language": "python",
   "name": "python3"
  },
  "language_info": {
   "codemirror_mode": {
    "name": "ipython",
    "version": 3
   },
   "file_extension": ".py",
   "mimetype": "text/x-python",
   "name": "python",
   "nbconvert_exporter": "python",
   "pygments_lexer": "ipython3",
   "version": "3.7.3"
  }
 },
 "nbformat": 4,
 "nbformat_minor": 2
}
